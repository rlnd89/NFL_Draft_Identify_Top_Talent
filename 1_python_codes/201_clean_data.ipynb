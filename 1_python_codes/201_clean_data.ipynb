{
 "cells": [
  {
   "cell_type": "markdown",
   "metadata": {},
   "source": [
    "### 0) Description"
   ]
  },
  {
   "cell_type": "markdown",
   "metadata": {},
   "source": [
    "This notebook contains code to clean pulled from the following https://www.sports-reference.com/ websites:\n",
    "    - College Football: https://www.sports-reference.com/cfb/\n",
    "    - NFL: https://www.pro-football-reference.com/\n",
    "    "
   ]
  },
  {
   "cell_type": "markdown",
   "metadata": {},
   "source": [
    "### 1) Import packages"
   ]
  },
  {
   "cell_type": "code",
   "execution_count": 1,
   "metadata": {},
   "outputs": [],
   "source": [
    "import pandas as pd"
   ]
  },
  {
   "cell_type": "markdown",
   "metadata": {},
   "source": [
    "### 2) Clean data"
   ]
  },
  {
   "cell_type": "code",
   "execution_count": 13,
   "metadata": {},
   "outputs": [],
   "source": [
    "# clean nfl team stats data\n",
    "\n",
    "# read data\n",
    "df = pd.read_csv('nfl_team_stats_1999_2019.csv')\n",
    "\n",
    "# set column order\n",
    "df_clean=df[df.columns[[13,10,11,1,9,12,6,4,5,2,8,7,3,0]]]\n",
    "\n",
    "# turn off warnings\n",
    "pd.options.mode.chained_assignment = None  # default='warn'\n",
    "\n",
    "# add Playoff column to indicate if team made it to playoffs\n",
    "df_clean['Playoff'] = df_clean['Tm'].str.contains('\\*|\\+')\n",
    "# remove '*' and '+' characters from team name\n",
    "df_clean['Tm'] = df_clean['Tm'].replace('\\*|\\+','', regex=True)\n",
    "\n",
    "# fill nans with 0 in Ties column\n",
    "df_clean['T'] = df_clean['T'].fillna(0).astype(int)\n",
    "\n",
    "# save as csv\n",
    "df_clean.to_csv('nfl_team_stats_1999_2019_clean.csv', index=False)"
   ]
  },
  {
   "cell_type": "code",
   "execution_count": 2,
   "metadata": {},
   "outputs": [],
   "source": [
    "# clean nfl draft data\n",
    "\n",
    "# read data\n",
    "df = pd.read_csv('nfl_draft_2000_2020.csv')\n",
    "\n",
    "# drop columns that are not relevant for our project\n",
    "cols_to_drop = ['To','AP1','PB','St','DrAV','G','Cmp','Att','Yds','TD','Int','Att.1','Yds.1','TD.1','Rec','Yds.2','TD.2','Solo','Int.1','Sk','Unnamed: 28_level_1']\n",
    "df.drop(cols_to_drop, inplace=True, axis=1)\n",
    "\n",
    "# save as csv\n",
    "df.to_csv('nfl_draft_2000_2020_clean_with_AV.csv', index=False)"
   ]
  },
  {
   "cell_type": "code",
   "execution_count": 15,
   "metadata": {},
   "outputs": [],
   "source": [
    "# clean nfl combine data\n",
    "\n",
    "# read data\n",
    "df = pd.read_csv('nfl_combine_2000_2020.csv')\n",
    "\n",
    "# convert feet & inches to inches\n",
    "df[['Feet','Inches']] = df['Ht'].str.split('-',expand=True).astype(int)\n",
    "df['Ht'] = df['Feet']*12 + df['Inches']\n",
    "\n",
    "# split and clean Drafted column: e.g New York Jets / 1st / 13th pick / 2000\n",
    "df[['Team','Round','Pick','Yr']] = df['Drafted (tm/rnd/yr)'].str.split(' / ',expand=True)\n",
    "\n",
    "# remove non-numeric characters\n",
    "df['Round'] = df['Round'].str.replace(r'\\D+', '')\n",
    "df['Pick'] = df['Pick'].str.replace(r'\\D+', '')\n",
    "\n",
    "# fill nans with 999\n",
    "df['Round'] = df['Round'].fillna(999).astype(int)\n",
    "df['Pick'] = df['Pick'].fillna(999).astype(int)\n",
    "\n",
    "# drop unnecessary columns\n",
    "cols_to_drop = ['Yr','Feet','Inches','Drafted (tm/rnd/yr)','College']\n",
    "df.drop(cols_to_drop, inplace=True, axis=1)\n",
    "\n",
    "# save as csv\n",
    "df.to_csv('nfl_combine_2000_2020_clean.csv', index=False)"
   ]
  },
  {
   "cell_type": "code",
   "execution_count": 16,
   "metadata": {},
   "outputs": [],
   "source": [
    "# clean team offense and defense data\n",
    "\n",
    "# read data\n",
    "df_off = pd.read_csv('ncaaf_team_offense_2000_2019.csv')\n",
    "df_def = pd.read_csv('ncaaf_team_defense_2000_2019.csv')\n",
    "\n",
    "# rename columns\n",
    "df_off.columns = ['Year','Rk','School','G','Pts','Pass_Cmp','Pass_Att','Pass_Pct','Pass_Yds','Pass_TD','Rush_Att','Rush_Yds','Rush_Avg','Rush_TD','Off_Plays','Off_Yds','Off_Avg','FD_Pass','FD_Rush','FD_Pen','FD_Tot','Pen','Pen_Yds','Fum','Int','TO_Tot']\n",
    "df_def.columns = ['Year','Rk','School','G','Opp_Pts','Opp_Pass_Cmp','Opp_Pass_Att','Opp_Pass_Pct','Opp_Pass_Yds','Opp_Pass_TD','Opp_Rush_Att','Opp_Rush_Yds','Opp_Rush_Avg','Opp_Rush_TD','Opp_Off_Plays','Opp_Off_Yds','Opp_Off_Avg','Opp_FD_Pass','Opp_FD_Rush','Opp_FD_Pen','Opp_FD_Tot','Opp_Pen','Opp_Pen_Yds','Opp_Fum','Opp_Int','Opp_TO_Tot']\n",
    "\n",
    "# join dataframes\n",
    "key_cols = ['Year','School','G']\n",
    "df = pd.merge(df_off, df_def,  how='inner', left_on=key_cols, right_on = key_cols)\n",
    "df.rename(columns={'Rk_x':'Off_Rk','Rk_y':'Def_Rk'}, inplace=True)\n",
    "\n",
    "# save as csv\n",
    "df.to_csv('ncaaf_team_offense_defense_2000_2019_clean.csv', index=False)"
   ]
  },
  {
   "cell_type": "code",
   "execution_count": 2,
   "metadata": {},
   "outputs": [],
   "source": [
    "# clean player data\n",
    "\n",
    "# read data\n",
    "df = pd.read_csv('ncaa_all_player_ind_stats_extended_v2.csv')\n",
    "\n",
    "# fill nans with 0 in columns\n",
    "list_cols = ['Def_Solo_Tackles','Def_Ast_Tackles','Def_Tot_Tackles','Def_Loss_Tackles','Def_Sk','Def_Int','Def_Int_Yds','Def_Int_Avg','Def_Int_TD','Def_Int_PD','Def_FR','Def_Yds_Fumbles','Def_TD_Fumbles','Def_FF','Kick_Ret','Kick_ret_Yds','Kick_ret_Avg','Kick_ret_TD','Punt_Ret','Punt_ret_Yds','Punt_ret_Avg','Punt_ret_TD','Rush_Att','Rush_Yds','Rush_Avg','Rush_TD','Rec','Rec_Yds','Rec_Avg','Rec_TD','Scrim_Plays','Scrim_Yds','Scrim_Avg','Scrim_TD','Punts','Punt_Yds','Punt_Avg','Kick_XPM','Kick_XPA','Kick_XP_pct','Kick_FGM','Kick_FGA','Kick_FG_pct','Kick_Pts','Pass_Cmp','Pass_Att','Pass_Pct','Pass_Yds','Pass_Y/A','Pass_AY/A','Pass_TD','Pass_Int','Pass_Rate']\n",
    "df[list_cols] = df[list_cols].fillna(0)\n",
    "\n",
    "# remove '*' characters from year\n",
    "df['Year'] = df['Year'].str.replace(r'\\*', '')\n",
    "\n",
    "# save as csv\n",
    "df.to_csv('ncaa_all_player_ind_stats_extended_clean_v2.csv', index=False) "
   ]
  },
  {
   "cell_type": "code",
   "execution_count": 2,
   "metadata": {},
   "outputs": [],
   "source": [
    "# clean team ratings data\n",
    "\n",
    "# read data\n",
    "df = pd.read_csv('ncaaf_team_ratings_1999_2019.csv')\n",
    "\n",
    "# rename columns\n",
    "df.columns = ['Year','Rk','School','Conf','AP Rank','W','L','OSRS','DSRS','SRS','PPG','Opp_PPG','Pass_YPA','Opp_Pass_YPA','Rush_YPA','Opp_Rush_YPA','Total_YPP','Opp_Total_YPP']\n",
    "\n",
    "# save as csv\n",
    "df.to_csv('ncaaf_team_ratings_1999_2019_clean.csv', index=False) "
   ]
  },
  {
   "cell_type": "code",
   "execution_count": null,
   "metadata": {},
   "outputs": [],
   "source": []
  }
 ],
 "metadata": {
  "kernelspec": {
   "display_name": "Python 3",
   "language": "python",
   "name": "python3"
  },
  "language_info": {
   "codemirror_mode": {
    "name": "ipython",
    "version": 3
   },
   "file_extension": ".py",
   "mimetype": "text/x-python",
   "name": "python",
   "nbconvert_exporter": "python",
   "pygments_lexer": "ipython3",
   "version": "3.7.3"
  }
 },
 "nbformat": 4,
 "nbformat_minor": 2
}
